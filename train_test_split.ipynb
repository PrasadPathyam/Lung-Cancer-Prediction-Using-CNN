{
 "cells": [
  {
   "cell_type": "code",
   "execution_count": 1,
   "id": "c925aad9",
   "metadata": {},
   "outputs": [],
   "source": [
    "import os\n",
    "import math\n",
    "import shutil\n",
    "import glob\n",
    "import numpy as np\n",
    "import matplotlib.pyplot as plt"
   ]
  },
  {
   "cell_type": "code",
   "execution_count": 36,
   "id": "1e705651",
   "metadata": {},
   "outputs": [],
   "source": [
    "ROOT_DIR = \"C:/Users/jithi/Desktop/Cancer data\"\n",
    "number_of_images = {}\n",
    "\n",
    "for dir in os.listdir(ROOT_DIR):\n",
    "    number_of_images[dir] = len(os.listdir(os.path.join(ROOT_DIR, dir)))"
   ]
  },
  {
   "cell_type": "code",
   "execution_count": 37,
   "id": "43a8e93e",
   "metadata": {},
   "outputs": [
    {
     "data": {
      "text/plain": [
       "dict_items([('adenocarcinoma', 446), ('large.cell.carcinoma', 163), ('normal', 215), ('squamous.cell.carcinoma', 260)])"
      ]
     },
     "execution_count": 37,
     "metadata": {},
     "output_type": "execute_result"
    }
   ],
   "source": [
    "number_of_images.items()"
   ]
  },
  {
   "cell_type": "code",
   "execution_count": 42,
   "id": "0e6da41e",
   "metadata": {},
   "outputs": [],
   "source": [
    "def dataFolder(p, split):\n",
    "    \n",
    "    if not os.path.exists(\"./\"+p):\n",
    "        os.mkdir(\"./\"+p)\n",
    "    \n",
    "        for dir in os.listdir(ROOT_DIR):\n",
    "            os.makedirs(\"./\"+p+\"/\"+dir)\n",
    "        \n",
    "            for image in np.random.choice(a = os.listdir(os.path.join(ROOT_DIR, dir)),\n",
    "                                                     size = (math.floor(split*number_of_images[dir])),\n",
    "                                                     replace =False):\n",
    "                O = os.path.join(ROOT_DIR,dir,image)\n",
    "                D = os.path.join(\"./\"+p, dir)\n",
    "                shutil.copy(O,D)\n",
    "                os.remove(O)\n",
    "    else:\n",
    "        print(f'{p} folder exists')"
   ]
  },
  {
   "cell_type": "code",
   "execution_count": 43,
   "id": "81c2e949",
   "metadata": {},
   "outputs": [],
   "source": [
    "dataFolder('train', 0.7)"
   ]
  },
  {
   "cell_type": "code",
   "execution_count": 44,
   "id": "3ba61880",
   "metadata": {},
   "outputs": [],
   "source": [
    "dataFolder('test', 0.2)"
   ]
  },
  {
   "cell_type": "code",
   "execution_count": 45,
   "id": "eaf76283",
   "metadata": {},
   "outputs": [],
   "source": [
    "dataFolder('valid', 0.1)"
   ]
  },
  {
   "cell_type": "code",
   "execution_count": null,
   "id": "505da5e0",
   "metadata": {},
   "outputs": [],
   "source": []
  },
  {
   "cell_type": "code",
   "execution_count": null,
   "id": "31f05451",
   "metadata": {},
   "outputs": [],
   "source": []
  }
 ],
 "metadata": {
  "kernelspec": {
   "display_name": "Python 3 (ipykernel)",
   "language": "python",
   "name": "python3"
  },
  "language_info": {
   "codemirror_mode": {
    "name": "ipython",
    "version": 3
   },
   "file_extension": ".py",
   "mimetype": "text/x-python",
   "name": "python",
   "nbconvert_exporter": "python",
   "pygments_lexer": "ipython3",
   "version": "3.9.12"
  }
 },
 "nbformat": 4,
 "nbformat_minor": 5
}
